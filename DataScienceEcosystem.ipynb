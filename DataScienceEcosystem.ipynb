{
 "cells": [
  {
   "cell_type": "markdown",
   "id": "8b1e2284",
   "metadata": {},
   "source": [
    "# Data Sciecne Tools and Ecosystem"
   ]
  },
  {
   "cell_type": "markdown",
   "id": "90d49290",
   "metadata": {},
   "source": [
    "In this notebook, Data Science Tools and Ecosystem are summarized"
   ]
  },
  {
   "cell_type": "markdown",
   "id": "50704793",
   "metadata": {},
   "source": [
    "**Objectives:**\n",
    " - Data Science Languages\n",
    " - Data Science Tools\n",
    " - Data Science Libraries\n",
    " - Working with Markdown in Jupyter"
   ]
  },
  {
   "cell_type": "markdown",
   "id": "5e59ebb2",
   "metadata": {},
   "source": [
    "##### Some of the most popular languages that Data Scientists use are:\n",
    " 1. Python\n",
    " 2. R\n",
    " 3. Scala"
   ]
  },
  {
   "cell_type": "markdown",
   "id": "9c62b9f0",
   "metadata": {},
   "source": [
    "##### Some of the commonly used libraries used by the Data Scientists include:\n",
    " 1. Pandas\n",
    " 2. ScikitLearn\n",
    " 3. Matplotlib\n",
    " 4. Ggplot\n",
    " 5. Numpy\n",
    " 6. TensorFlow\n",
    " 7. Natural language Processting Tool Kit(NLTK)"
   ]
  },
  {
   "cell_type": "markdown",
   "id": "b873af7f",
   "metadata": {},
   "source": [
    "| Data Science Tools |\n",
    "|--------|\n",
    "|RStudio|\n",
    "|JupyterLab|\n",
    "|GitHub|\n",
    "|MongoDB|"
   ]
  },
  {
   "cell_type": "markdown",
   "id": "dcf266b8",
   "metadata": {},
   "source": [
    "### Below are a few examples of evaluating arithmetic expressions in python"
   ]
  },
  {
   "cell_type": "code",
   "execution_count": 3,
   "id": "dab33dc7",
   "metadata": {},
   "outputs": [
    {
     "data": {
      "text/plain": [
       "17"
      ]
     },
     "execution_count": 3,
     "metadata": {},
     "output_type": "execute_result"
    }
   ],
   "source": [
    "#This is a simple arithmetic expression to mulitpy then add integers\n",
    "\n",
    "(3*4)+5"
   ]
  },
  {
   "cell_type": "code",
   "execution_count": 4,
   "id": "c171c02b",
   "metadata": {},
   "outputs": [
    {
     "data": {
      "text/plain": [
       "3.3333333333333335"
      ]
     },
     "execution_count": 4,
     "metadata": {},
     "output_type": "execute_result"
    }
   ],
   "source": [
    "#This will convert 200 minutes into hours by dividing with 60\n",
    "\n",
    "200/60"
   ]
  },
  {
   "cell_type": "markdown",
   "id": "f9e1c1e6",
   "metadata": {},
   "source": [
    "## Author"
   ]
  },
  {
   "cell_type": "markdown",
   "id": "4493a883",
   "metadata": {},
   "source": [
    "Vamsi Krishna Kavuri"
   ]
  },
  {
   "cell_type": "code",
   "execution_count": null,
   "id": "c100f2fe",
   "metadata": {},
   "outputs": [],
   "source": []
  }
 ],
 "metadata": {
  "kernelspec": {
   "display_name": "Python 3 (ipykernel)",
   "language": "python",
   "name": "python3"
  },
  "language_info": {
   "codemirror_mode": {
    "name": "ipython",
    "version": 3
   },
   "file_extension": ".py",
   "mimetype": "text/x-python",
   "name": "python",
   "nbconvert_exporter": "python",
   "pygments_lexer": "ipython3",
   "version": "3.8.8"
  }
 },
 "nbformat": 4,
 "nbformat_minor": 5
}
